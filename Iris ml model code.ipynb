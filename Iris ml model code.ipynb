{
 "cells": [
  {
   "cell_type": "markdown",
   "id": "68df1eda",
   "metadata": {},
   "source": [
    "## Complete ML cycle on Iris Datasets with Pipeline"
   ]
  },
  {
   "cell_type": "code",
   "execution_count": 1,
   "id": "95d6912a",
   "metadata": {},
   "outputs": [],
   "source": [
    "## import necessary libraries\n",
    "import numpy as np\n",
    "import pandas as pd"
   ]
  },
  {
   "cell_type": "code",
   "execution_count": 2,
   "id": "d3fa88ff",
   "metadata": {},
   "outputs": [
    {
     "data": {
      "text/html": [
       "<div>\n",
       "<style scoped>\n",
       "    .dataframe tbody tr th:only-of-type {\n",
       "        vertical-align: middle;\n",
       "    }\n",
       "\n",
       "    .dataframe tbody tr th {\n",
       "        vertical-align: top;\n",
       "    }\n",
       "\n",
       "    .dataframe thead th {\n",
       "        text-align: right;\n",
       "    }\n",
       "</style>\n",
       "<table border=\"1\" class=\"dataframe\">\n",
       "  <thead>\n",
       "    <tr style=\"text-align: right;\">\n",
       "      <th></th>\n",
       "      <th>sepal_length</th>\n",
       "      <th>sepal_width</th>\n",
       "      <th>petal_length</th>\n",
       "      <th>petal_width</th>\n",
       "      <th>species</th>\n",
       "    </tr>\n",
       "  </thead>\n",
       "  <tbody>\n",
       "    <tr>\n",
       "      <th>0</th>\n",
       "      <td>5.1</td>\n",
       "      <td>3.5</td>\n",
       "      <td>1.4</td>\n",
       "      <td>0.2</td>\n",
       "      <td>setosa</td>\n",
       "    </tr>\n",
       "    <tr>\n",
       "      <th>1</th>\n",
       "      <td>4.9</td>\n",
       "      <td>3.0</td>\n",
       "      <td>1.4</td>\n",
       "      <td>0.2</td>\n",
       "      <td>setosa</td>\n",
       "    </tr>\n",
       "    <tr>\n",
       "      <th>2</th>\n",
       "      <td>4.7</td>\n",
       "      <td>3.2</td>\n",
       "      <td>1.3</td>\n",
       "      <td>0.2</td>\n",
       "      <td>setosa</td>\n",
       "    </tr>\n",
       "    <tr>\n",
       "      <th>3</th>\n",
       "      <td>4.6</td>\n",
       "      <td>3.1</td>\n",
       "      <td>1.5</td>\n",
       "      <td>0.2</td>\n",
       "      <td>setosa</td>\n",
       "    </tr>\n",
       "    <tr>\n",
       "      <th>4</th>\n",
       "      <td>5.0</td>\n",
       "      <td>3.6</td>\n",
       "      <td>1.4</td>\n",
       "      <td>0.2</td>\n",
       "      <td>setosa</td>\n",
       "    </tr>\n",
       "  </tbody>\n",
       "</table>\n",
       "</div>"
      ],
      "text/plain": [
       "   sepal_length  sepal_width  petal_length  petal_width species\n",
       "0           5.1          3.5           1.4          0.2  setosa\n",
       "1           4.9          3.0           1.4          0.2  setosa\n",
       "2           4.7          3.2           1.3          0.2  setosa\n",
       "3           4.6          3.1           1.5          0.2  setosa\n",
       "4           5.0          3.6           1.4          0.2  setosa"
      ]
     },
     "execution_count": 2,
     "metadata": {},
     "output_type": "execute_result"
    }
   ],
   "source": [
    "df =pd.read_csv(\"../DataSets/iris.csv\")\n",
    "df.head()"
   ]
  },
  {
   "cell_type": "code",
   "execution_count": 3,
   "id": "35f1168b",
   "metadata": {},
   "outputs": [
    {
     "data": {
      "text/plain": [
       "sepal_length    0\n",
       "sepal_width     0\n",
       "petal_length    0\n",
       "petal_width     0\n",
       "species         0\n",
       "dtype: int64"
      ]
     },
     "execution_count": 3,
     "metadata": {},
     "output_type": "execute_result"
    }
   ],
   "source": [
    "## Check for Missing Values\n",
    "df.isna().sum()"
   ]
  },
  {
   "cell_type": "code",
   "execution_count": 4,
   "id": "3e8629cf",
   "metadata": {},
   "outputs": [],
   "source": [
    "## check for duplicated values\n",
    "dup_indices = df.index[df.duplicated()]\n",
    "df.drop_duplicates(inplace = True)"
   ]
  },
  {
   "cell_type": "code",
   "execution_count": 5,
   "id": "79fdf257",
   "metadata": {},
   "outputs": [],
   "source": [
    "## import necessart libraries for ML\n",
    "from sklearn.preprocessing import LabelEncoder ,StandardScaler\n",
    "from sklearn.linear_model import LinearRegression,LogisticRegression \n",
    "from sklearn.pipeline import Pipeline\n",
    "from sklearn.model_selection import train_test_split\n"
   ]
  },
  {
   "cell_type": "code",
   "execution_count": 6,
   "id": "36bf2092",
   "metadata": {},
   "outputs": [],
   "source": [
    "## split the data into x and y and change y into label encoded values\n",
    "\n",
    "encoder = LabelEncoder()\n",
    "scaler = StandardScaler()\n",
    "\n",
    "x = df.drop(\"species\" ,axis =1)\n",
    "y = df[\"species\"]\n",
    "\n",
    "y_encoded = encoder.fit_transform(y)\n",
    "\n",
    "pipeline = Pipeline([(\"scaling\" ,scaler),\n",
    "                      (\"estimator\" ,LogisticRegression())])\n",
    "\n",
    "\n",
    "\n"
   ]
  },
  {
   "cell_type": "code",
   "execution_count": null,
   "id": "f935c0f9",
   "metadata": {},
   "outputs": [],
   "source": []
  },
  {
   "cell_type": "code",
   "execution_count": 7,
   "id": "ddccfce1",
   "metadata": {},
   "outputs": [],
   "source": [
    "## split data into test train\n",
    "\n",
    "x_train ,x_test ,y_train ,y_test = train_test_split (x ,y_encoded ,test_size = 0.2 ,random_state = 42)"
   ]
  },
  {
   "cell_type": "code",
   "execution_count": 8,
   "id": "41962002",
   "metadata": {},
   "outputs": [
    {
     "data": {
      "text/plain": [
       "(     sepal_length  sepal_width  petal_length  petal_width\n",
       " 137           6.4          3.1           5.5          1.8\n",
       " 47            4.6          3.2           1.4          0.2\n",
       " 121           5.6          2.8           4.9          2.0\n",
       " 27            5.2          3.5           1.5          0.2\n",
       " 4             5.0          3.6           1.4          0.2\n",
       " ..            ...          ...           ...          ...\n",
       " 73            6.1          2.8           4.7          1.2\n",
       " 108           6.7          2.5           5.8          1.8\n",
       " 14            5.8          4.0           1.2          0.2\n",
       " 94            5.6          2.7           4.2          1.3\n",
       " 104           6.5          3.0           5.8          2.2\n",
       " \n",
       " [117 rows x 4 columns],\n",
       "      sepal_length  sepal_width  petal_length  petal_width\n",
       " 127           6.1          3.0           4.9          1.8\n",
       " 53            5.5          2.3           4.0          1.3\n",
       " 140           6.7          3.1           5.6          2.4\n",
       " 19            5.1          3.8           1.5          0.3\n",
       " 106           4.9          2.5           4.5          1.7\n",
       " 12            4.8          3.0           1.4          0.1\n",
       " 78            6.0          2.9           4.5          1.5\n",
       " 31            5.4          3.4           1.5          0.4\n",
       " 83            6.0          2.7           5.1          1.6\n",
       " 9             4.9          3.1           1.5          0.1\n",
       " 26            5.0          3.4           1.6          0.4\n",
       " 98            5.1          2.5           3.0          1.1\n",
       " 146           6.3          2.5           5.0          1.9\n",
       " 69            5.6          2.5           3.9          1.1\n",
       " 136           6.3          3.4           5.6          2.4\n",
       " 68            6.2          2.2           4.5          1.5\n",
       " 18            5.7          3.8           1.7          0.3\n",
       " 71            6.1          2.8           4.0          1.3\n",
       " 126           6.2          2.8           4.8          1.8\n",
       " 30            4.8          3.1           1.6          0.2\n",
       " 29            4.7          3.2           1.6          0.2\n",
       " 107           7.3          2.9           6.3          1.8\n",
       " 38            4.4          3.0           1.3          0.2\n",
       " 120           6.9          3.2           5.7          2.3\n",
       " 57            4.9          2.4           3.3          1.0\n",
       " 22            4.6          3.6           1.0          0.2\n",
       " 66            5.6          3.0           4.5          1.5\n",
       " 135           7.7          3.0           6.1          2.3\n",
       " 84            5.4          3.0           4.5          1.5\n",
       " 11            4.8          3.4           1.6          0.2,\n",
       " array([2, 0, 2, 0, 0, 2, 2, 2, 0, 0, 0, 2, 1, 2, 1, 1, 2, 2, 0, 1, 1, 0,\n",
       "        0, 1, 0, 0, 0, 2, 1, 2, 0, 0, 2, 0, 1, 2, 0, 1, 2, 0, 1, 2, 1, 2,\n",
       "        1, 1, 0, 2, 1, 1, 0, 1, 1, 0, 2, 0, 0, 1, 1, 1, 2, 2, 1, 0, 0, 2,\n",
       "        2, 0, 0, 0, 1, 2, 0, 2, 2, 0, 1, 1, 2, 1, 2, 0, 2, 1, 2, 1, 1, 1,\n",
       "        0, 1, 1, 1, 1, 2, 0, 1, 1, 0, 2, 0, 2, 0, 1, 2, 2, 2, 2, 1, 1, 2,\n",
       "        2, 0, 1, 2, 0, 1, 2]),\n",
       " array([2, 1, 2, 0, 2, 0, 1, 0, 1, 0, 0, 1, 2, 1, 2, 1, 0, 1, 2, 0, 0, 2,\n",
       "        0, 2, 1, 0, 1, 2, 1, 0]))"
      ]
     },
     "execution_count": 8,
     "metadata": {},
     "output_type": "execute_result"
    }
   ],
   "source": [
    "x_train ,x_test ,y_train ,y_test"
   ]
  },
  {
   "cell_type": "code",
   "execution_count": 9,
   "id": "3586946b",
   "metadata": {},
   "outputs": [
    {
     "data": {
      "text/html": [
       "<style>#sk-container-id-1 {color: black;background-color: white;}#sk-container-id-1 pre{padding: 0;}#sk-container-id-1 div.sk-toggleable {background-color: white;}#sk-container-id-1 label.sk-toggleable__label {cursor: pointer;display: block;width: 100%;margin-bottom: 0;padding: 0.3em;box-sizing: border-box;text-align: center;}#sk-container-id-1 label.sk-toggleable__label-arrow:before {content: \"▸\";float: left;margin-right: 0.25em;color: #696969;}#sk-container-id-1 label.sk-toggleable__label-arrow:hover:before {color: black;}#sk-container-id-1 div.sk-estimator:hover label.sk-toggleable__label-arrow:before {color: black;}#sk-container-id-1 div.sk-toggleable__content {max-height: 0;max-width: 0;overflow: hidden;text-align: left;background-color: #f0f8ff;}#sk-container-id-1 div.sk-toggleable__content pre {margin: 0.2em;color: black;border-radius: 0.25em;background-color: #f0f8ff;}#sk-container-id-1 input.sk-toggleable__control:checked~div.sk-toggleable__content {max-height: 200px;max-width: 100%;overflow: auto;}#sk-container-id-1 input.sk-toggleable__control:checked~label.sk-toggleable__label-arrow:before {content: \"▾\";}#sk-container-id-1 div.sk-estimator input.sk-toggleable__control:checked~label.sk-toggleable__label {background-color: #d4ebff;}#sk-container-id-1 div.sk-label input.sk-toggleable__control:checked~label.sk-toggleable__label {background-color: #d4ebff;}#sk-container-id-1 input.sk-hidden--visually {border: 0;clip: rect(1px 1px 1px 1px);clip: rect(1px, 1px, 1px, 1px);height: 1px;margin: -1px;overflow: hidden;padding: 0;position: absolute;width: 1px;}#sk-container-id-1 div.sk-estimator {font-family: monospace;background-color: #f0f8ff;border: 1px dotted black;border-radius: 0.25em;box-sizing: border-box;margin-bottom: 0.5em;}#sk-container-id-1 div.sk-estimator:hover {background-color: #d4ebff;}#sk-container-id-1 div.sk-parallel-item::after {content: \"\";width: 100%;border-bottom: 1px solid gray;flex-grow: 1;}#sk-container-id-1 div.sk-label:hover label.sk-toggleable__label {background-color: #d4ebff;}#sk-container-id-1 div.sk-serial::before {content: \"\";position: absolute;border-left: 1px solid gray;box-sizing: border-box;top: 0;bottom: 0;left: 50%;z-index: 0;}#sk-container-id-1 div.sk-serial {display: flex;flex-direction: column;align-items: center;background-color: white;padding-right: 0.2em;padding-left: 0.2em;position: relative;}#sk-container-id-1 div.sk-item {position: relative;z-index: 1;}#sk-container-id-1 div.sk-parallel {display: flex;align-items: stretch;justify-content: center;background-color: white;position: relative;}#sk-container-id-1 div.sk-item::before, #sk-container-id-1 div.sk-parallel-item::before {content: \"\";position: absolute;border-left: 1px solid gray;box-sizing: border-box;top: 0;bottom: 0;left: 50%;z-index: -1;}#sk-container-id-1 div.sk-parallel-item {display: flex;flex-direction: column;z-index: 1;position: relative;background-color: white;}#sk-container-id-1 div.sk-parallel-item:first-child::after {align-self: flex-end;width: 50%;}#sk-container-id-1 div.sk-parallel-item:last-child::after {align-self: flex-start;width: 50%;}#sk-container-id-1 div.sk-parallel-item:only-child::after {width: 0;}#sk-container-id-1 div.sk-dashed-wrapped {border: 1px dashed gray;margin: 0 0.4em 0.5em 0.4em;box-sizing: border-box;padding-bottom: 0.4em;background-color: white;}#sk-container-id-1 div.sk-label label {font-family: monospace;font-weight: bold;display: inline-block;line-height: 1.2em;}#sk-container-id-1 div.sk-label-container {text-align: center;}#sk-container-id-1 div.sk-container {/* jupyter's `normalize.less` sets `[hidden] { display: none; }` but bootstrap.min.css set `[hidden] { display: none !important; }` so we also need the `!important` here to be able to override the default hidden behavior on the sphinx rendered scikit-learn.org. See: https://github.com/scikit-learn/scikit-learn/issues/21755 */display: inline-block !important;position: relative;}#sk-container-id-1 div.sk-text-repr-fallback {display: none;}</style><div id=\"sk-container-id-1\" class=\"sk-top-container\"><div class=\"sk-text-repr-fallback\"><pre>Pipeline(steps=[(&#x27;scaling&#x27;, StandardScaler()),\n",
       "                (&#x27;estimator&#x27;, LogisticRegression())])</pre><b>In a Jupyter environment, please rerun this cell to show the HTML representation or trust the notebook. <br />On GitHub, the HTML representation is unable to render, please try loading this page with nbviewer.org.</b></div><div class=\"sk-container\" hidden><div class=\"sk-item sk-dashed-wrapped\"><div class=\"sk-label-container\"><div class=\"sk-label sk-toggleable\"><input class=\"sk-toggleable__control sk-hidden--visually\" id=\"sk-estimator-id-1\" type=\"checkbox\" ><label for=\"sk-estimator-id-1\" class=\"sk-toggleable__label sk-toggleable__label-arrow\">Pipeline</label><div class=\"sk-toggleable__content\"><pre>Pipeline(steps=[(&#x27;scaling&#x27;, StandardScaler()),\n",
       "                (&#x27;estimator&#x27;, LogisticRegression())])</pre></div></div></div><div class=\"sk-serial\"><div class=\"sk-item\"><div class=\"sk-estimator sk-toggleable\"><input class=\"sk-toggleable__control sk-hidden--visually\" id=\"sk-estimator-id-2\" type=\"checkbox\" ><label for=\"sk-estimator-id-2\" class=\"sk-toggleable__label sk-toggleable__label-arrow\">StandardScaler</label><div class=\"sk-toggleable__content\"><pre>StandardScaler()</pre></div></div></div><div class=\"sk-item\"><div class=\"sk-estimator sk-toggleable\"><input class=\"sk-toggleable__control sk-hidden--visually\" id=\"sk-estimator-id-3\" type=\"checkbox\" ><label for=\"sk-estimator-id-3\" class=\"sk-toggleable__label sk-toggleable__label-arrow\">LogisticRegression</label><div class=\"sk-toggleable__content\"><pre>LogisticRegression()</pre></div></div></div></div></div></div></div>"
      ],
      "text/plain": [
       "Pipeline(steps=[('scaling', StandardScaler()),\n",
       "                ('estimator', LogisticRegression())])"
      ]
     },
     "execution_count": 9,
     "metadata": {},
     "output_type": "execute_result"
    }
   ],
   "source": [
    "## fit the pipeline \n",
    "pipeline.fit(x_train ,y_train)"
   ]
  },
  {
   "cell_type": "code",
   "execution_count": 10,
   "id": "83cdc6f2",
   "metadata": {},
   "outputs": [
    {
     "data": {
      "text/plain": [
       "0.9666666666666667"
      ]
     },
     "execution_count": 10,
     "metadata": {},
     "output_type": "execute_result"
    }
   ],
   "source": [
    "## basic evaluate the pipeline\n",
    "pipeline.score(x_test ,y_test)"
   ]
  },
  {
   "cell_type": "code",
   "execution_count": 11,
   "id": "f543c9c3",
   "metadata": {},
   "outputs": [],
   "source": [
    "## predict \n",
    "\n",
    "y_preds = pipeline.predict(x_test)"
   ]
  },
  {
   "cell_type": "code",
   "execution_count": 12,
   "id": "97160b75",
   "metadata": {},
   "outputs": [
    {
     "name": "stdout",
     "output_type": "stream",
     "text": [
      "Mean Squared Error: 0.03333333333333333\n",
      "Mean Absolute Error: 0.03333333333333333\n",
      "R-squared: 0.9496644295302014\n"
     ]
    }
   ],
   "source": [
    "from sklearn.metrics import mean_squared_error, mean_absolute_error, r2_score\n",
    "\n",
    "import numpy as np\n",
    "\n",
    "# Generate some sample data\n",
    "y_true = y_test\n",
    "y_pred = y_preds\n",
    "\n",
    "# Calculate the metrics\n",
    "mse = mean_squared_error(y_true, y_pred) \n",
    "mae = mean_absolute_error(y_true, y_pred)\n",
    "r2 = r2_score(y_true, y_pred)\n",
    "\n",
    "print(\"Mean Squared Error:\", mse)\n",
    "print(\"Mean Absolute Error:\", mae) \n",
    "print(\"R-squared:\", r2)"
   ]
  },
  {
   "cell_type": "code",
   "execution_count": 88,
   "id": "edbf7a32",
   "metadata": {},
   "outputs": [
    {
     "data": {
      "text/plain": [
       "['../TrainedModels/irisEncoderPipeline.pkl']"
      ]
     },
     "execution_count": 88,
     "metadata": {},
     "output_type": "execute_result"
    }
   ],
   "source": [
    "## save the model and encoder\n",
    "import joblib\n",
    "\n",
    "joblib.dump(pipeline , \"../TrainedModels/irisModelPipeline.pkl\")\n",
    "joblib.dump(encoder , \"../TrainedModels/irisEncoderPipeline.pkl\")"
   ]
  },
  {
   "cell_type": "code",
   "execution_count": 89,
   "id": "2b9d4d72",
   "metadata": {},
   "outputs": [
    {
     "data": {
      "text/plain": [
       "'setosa'"
      ]
     },
     "execution_count": 89,
     "metadata": {},
     "output_type": "execute_result"
    }
   ],
   "source": [
    "## Import the models\n",
    "pipeline = joblib.load(\"../TrainedModels/irisModelPipeline.pkl\")\n",
    "encoder = joblib.load(\"../TrainedModels/irisEncoderPipeline.pkl\")\n",
    "encoderLoad.classes_[0]"
   ]
  },
  {
   "cell_type": "code",
   "execution_count": 92,
   "id": "77e7044b",
   "metadata": {},
   "outputs": [
    {
     "name": "stdout",
     "output_type": "stream",
     "text": [
      "Enter sepal length: 6.7\n",
      "Enter sepal width: 3\n",
      "Enter petal length: 5.2\n",
      "Enter petal width: 2.3\n",
      "   sepal_length  sepal_width  petal_length  petal_width\n",
      "0           6.7          3.0           5.2          2.3\n",
      "[[ 0.96182651 -0.16910268  0.77189016  1.43421089]]\n",
      "The Label is: virginica\n"
     ]
    },
    {
     "name": "stderr",
     "output_type": "stream",
     "text": [
      "C:\\Users\\Barcha\\AppData\\Local\\Temp\\ipykernel_6920\\1621757244.py:17: FutureWarning: The frame.append method is deprecated and will be removed from pandas in a future version. Use pandas.concat instead.\n",
      "  df1 = df_d.append({\"sepal_length\": sepal_length,\n"
     ]
    }
   ],
   "source": [
    "data = {\n",
    "  \"sepal_length\": [],\n",
    "  \"sepal_width\": [], \n",
    "  \"petal_length\": [],\n",
    "  \"petal_width\": []\n",
    "}\n",
    "\n",
    "df_d = pd.DataFrame(data) \n",
    "\n",
    "\n",
    "\n",
    "sepal_length = float(input(\"Enter sepal length: \"))\n",
    "sepal_width = float(input(\"Enter sepal width: \"))\n",
    "petal_length = float(input(\"Enter petal length: \")) \n",
    "petal_width = float(input(\"Enter petal width: \"))\n",
    "    \n",
    "df1 = df_d.append({\"sepal_length\": sepal_length, \n",
    "                    \"sepal_width\": sepal_width,\n",
    "                    \"petal_length\": petal_length,  \n",
    "                    \"petal_width\": petal_width}, \n",
    "                   ignore_index=True)\n",
    "\n",
    "print(df1)\n",
    "# Predict the data \n",
    "transformed_data = pipeline[\"scaling\"].transform(df1)\n",
    "print(transformed_data)\n",
    "prediction = pipeline[\"estimator\"].predict(transformed_data)\n",
    "\n",
    "print(\"The Label is:\", encoder.classes_[prediction][0])"
   ]
  },
  {
   "cell_type": "code",
   "execution_count": null,
   "id": "da55198b",
   "metadata": {},
   "outputs": [],
   "source": []
  },
  {
   "cell_type": "code",
   "execution_count": null,
   "id": "952f7845",
   "metadata": {},
   "outputs": [],
   "source": []
  },
  {
   "cell_type": "code",
   "execution_count": null,
   "id": "11006b4c",
   "metadata": {},
   "outputs": [],
   "source": []
  },
  {
   "cell_type": "code",
   "execution_count": null,
   "id": "c9a6dc51",
   "metadata": {},
   "outputs": [],
   "source": []
  }
 ],
 "metadata": {
  "kernelspec": {
   "display_name": "Python 3 (ipykernel)",
   "language": "python",
   "name": "python3"
  },
  "language_info": {
   "codemirror_mode": {
    "name": "ipython",
    "version": 3
   },
   "file_extension": ".py",
   "mimetype": "text/x-python",
   "name": "python",
   "nbconvert_exporter": "python",
   "pygments_lexer": "ipython3",
   "version": "3.10.9"
  }
 },
 "nbformat": 4,
 "nbformat_minor": 5
}
